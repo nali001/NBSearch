{
 "cells": [
  {
   "cell_type": "code",
   "execution_count": null,
   "id": "7a5555a1-ea07-49e6-aef9-5763fd2f2318",
   "metadata": {},
   "outputs": [],
   "source": [
    "import pandas as pd"
   ]
  },
  {
   "cell_type": "code",
   "execution_count": null,
   "id": "c1b060d9-ba79-4aad-a25e-364e432d7d16",
   "metadata": {},
   "outputs": [],
   "source": [
    "data = pd.DataFrame({\n",
    "  \"calories\": [420, 380, 390],\n",
    "  \"duration\": [50, 40, 45]\n",
    "})"
   ]
  },
  {
   "cell_type": "code",
   "execution_count": null,
   "id": "8b91db21-4baa-46b8-866c-c9ade5989be5",
   "metadata": {},
   "outputs": [],
   "source": [
    "data"
   ]
  },
  {
   "cell_type": "code",
   "execution_count": 4,
   "id": "a6c9856a-62e6-45d8-840b-e7d53613fad5",
   "metadata": {},
   "outputs": [],
   "source": [
    "from end2end.seq2seq import Seq2SeqModel\n"
   ]
  },
  {
   "cell_type": "code",
   "execution_count": 7,
   "id": "407dbe84-b3a4-4e82-88e5-12f75267f03e",
   "metadata": {},
   "outputs": [
    {
     "name": "stdout",
     "output_type": "stream",
     "text": [
      "Shape of encoder input: (27423, 100)\n",
      "Shape of decoder input: (27423, 19)\n",
      "Shape of decoder target: (27423, 19)\n",
      "Size of vocabulary for /home/na/codes/NBSearch/data/cell_pp.dpkl: 8,002\n",
      "Size of vocabulary for /home/na/codes/NBSearch/data/comments_pp.dpkl: 4,502\n"
     ]
    }
   ],
   "source": [
    "options = ['bilstm'] #, 'gru', 'lstm', 'lstmattention']\n",
    "for option in options:\n",
    "    model = Seq2SeqModel(model_option=option)\n",
    "    model.create_model()\n",
    "    # model.train_model(batch_size=120, epochs=1)\n",
    "    # # model.evaluate_seq2seq_model(nums=0,model_option=option)\n",
    "    # model.evaluate_seq2seq_model(nums=2)"
   ]
  },
  {
   "cell_type": "code",
   "execution_count": 6,
   "id": "7a00d3f4-624d-4ad8-a1aa-89232053cc05",
   "metadata": {},
   "outputs": [
    {
     "name": "stdout",
     "output_type": "stream",
     "text": [
      "Model: \"functional_3\"\n",
      "__________________________________________________________________________________________________\n",
      "Layer (type)                    Output Shape         Param #     Connected to                     \n",
      "==================================================================================================\n",
      "Decoder-Input (InputLayer)      [(None, None)]       0                                            \n",
      "__________________________________________________________________________________________________\n",
      "Decoder-Word-Embedding (Embeddi (None, None, 300)    1350600     Decoder-Input[0][0]              \n",
      "__________________________________________________________________________________________________\n",
      "Encoder-Input (InputLayer)      [(None, 100)]        0                                            \n",
      "__________________________________________________________________________________________________\n",
      "Decoder-Batchnorm-1 (BatchNorma (None, None, 300)    1200        Decoder-Word-Embedding[0][0]     \n",
      "__________________________________________________________________________________________________\n",
      "Encoder-Model (Functional)      [(None, 600), (None, 3844200     Encoder-Input[0][0]              \n",
      "__________________________________________________________________________________________________\n",
      "Decoder-LSTM (LSTM)             [(None, None, 600),  2162400     Decoder-Batchnorm-1[0][0]        \n",
      "                                                                 Encoder-Model[0][0]              \n",
      "                                                                 Encoder-Model[0][1]              \n",
      "__________________________________________________________________________________________________\n",
      "Decoder-Batchnorm-2 (BatchNorma (None, None, 600)    2400        Decoder-LSTM[0][0]               \n",
      "__________________________________________________________________________________________________\n",
      "Final-Output-Dense (Dense)      (None, None, 4502)   2705702     Decoder-Batchnorm-2[0][0]        \n",
      "==================================================================================================\n",
      "Total params: 10,066,502\n",
      "Trainable params: 10,064,102\n",
      "Non-trainable params: 2,400\n",
      "__________________________________________________________________________________________________\n"
     ]
    }
   ],
   "source": [
    "model.model.summary()"
   ]
  },
  {
   "cell_type": "code",
   "execution_count": null,
   "id": "07618c03-68f4-4410-8072-3255efa6ddb4",
   "metadata": {},
   "outputs": [],
   "source": []
  }
 ],
 "metadata": {
  "kernelspec": {
   "display_name": "Python 3 (ipykernel)",
   "language": "python",
   "name": "python3"
  },
  "language_info": {
   "codemirror_mode": {
    "name": "ipython",
    "version": 3
   },
   "file_extension": ".py",
   "mimetype": "text/x-python",
   "name": "python",
   "nbconvert_exporter": "python",
   "pygments_lexer": "ipython3",
   "version": "3.7.7"
  }
 },
 "nbformat": 4,
 "nbformat_minor": 5
}
