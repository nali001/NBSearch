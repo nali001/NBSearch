{
 "cells": [
  {
   "cell_type": "markdown",
   "id": "7e6bf921-1b8c-4194-9230-f4e64764f27c",
   "metadata": {},
   "source": [
    "# NBSearch test\n",
    "This project is tested on two conda envs\n",
    "+ nbsearch (CPU only)\n",
    "+ tf-gpu (GPU for tensorflow)"
   ]
  },
  {
   "cell_type": "markdown",
   "id": "5a29a77e-2a3f-4522-ac68-cfecfd85af85",
   "metadata": {},
   "source": [
    "## 1. nbsearch env (CPU only)"
   ]
  },
  {
   "cell_type": "code",
   "execution_count": null,
   "id": "44a61c27-0411-4968-9f4f-b776d4e7760f",
   "metadata": {},
   "outputs": [],
   "source": [
    "# Preprocess data within nbsearch env (CPU)\n",
    "!which python\n",
    "\n",
    "# Download en_core_web_sm\n",
    "!python -m spacy download en_core_web_sm"
   ]
  },
  {
   "cell_type": "code",
   "execution_count": null,
   "id": "56d1b304-8ad0-456f-8479-3bf03f6f1bc2",
   "metadata": {},
   "outputs": [],
   "source": [
    "from end2end.preprocess import preprocessing\n",
    "\n",
    "# The path to store notebooks data\n",
    "path = 'data/notebooks/'\n",
    "\n",
    "preprocessing(path)\n"
   ]
  },
  {
   "cell_type": "markdown",
   "id": "66c82400-e78f-4044-a950-9547725cb9ca",
   "metadata": {},
   "source": [
    "## 2. nbsearch-gpu env (GPU)"
   ]
  },
  {
   "cell_type": "code",
   "execution_count": 4,
   "id": "fd2549c6-723c-4943-849f-9ebe72d47d68",
   "metadata": {},
   "outputs": [
    {
     "name": "stdout",
     "output_type": "stream",
     "text": [
      "/home/na/miniconda3/envs/nbsearch-gpu/bin/python\n"
     ]
    }
   ],
   "source": [
    "# Train the model within tf-gpu env (GPU)\n",
    "!which python"
   ]
  },
  {
   "cell_type": "code",
   "execution_count": null,
   "id": "d8e6a67c-66d2-4623-9b22-7555d28487f4",
   "metadata": {},
   "outputs": [
    {
     "name": "stdout",
     "output_type": "stream",
     "text": [
      "Shape of encoder input: (27423, 100)\n",
      "Shape of decoder input: (27423, 19)\n",
      "Shape of decoder target: (27423, 19)\n",
      "Size of vocabulary for /home/na/codes/NBSearch/data/cell_pp.dpkl: 8,002\n",
      "Size of vocabulary for /home/na/codes/NBSearch/data/comments_pp.dpkl: 4,502\n",
      "Epoch 1/2\n",
      "143/202 [====================>.........] - ETA: 6s - loss: 2.9509"
     ]
    }
   ],
   "source": [
    "# Train the model\n",
    "from end2end.doc2vec import train_doc2vec\n",
    "from end2end.seq2seq import Seq2SeqModel\n",
    "from end2end.preprocess import preprocess_language_model_data\n",
    "options = ['bilstm'] #, 'gru', 'lstm', 'lstmattention']\n",
    "for option in options:\n",
    "    model = Seq2SeqModel(model_option=option)\n",
    "    model.create_model()\n",
    "    model.train_model(batch_size=120, epochs=2)\n",
    "    # model.evaluate_seq2seq_model(nums=0,model_option=option)\n",
    "    model.evaluate_seq2seq_model(nums=0)\n",
    "    \n",
    "    \n",
    "model = Seq2SeqModel(model_option='bilstm')\n",
    "model.predict_seq2seq_model(filename='data/final_comments.csv')\n",
    "\n",
    "preprocess_language_model_data()\n",
    "train_doc2vec(vector_size=300, epochs=40)"
   ]
  },
  {
   "cell_type": "code",
   "execution_count": 16,
   "id": "70922a0d-fb14-469f-8043-6bc5f28ad978",
   "metadata": {},
   "outputs": [
    {
     "ename": "NameError",
     "evalue": "name 'model_option' is not defined",
     "output_type": "error",
     "traceback": [
      "\u001b[0;31m---------------------------------------------------------------------------\u001b[0m",
      "\u001b[0;31mNameError\u001b[0m                                 Traceback (most recent call last)",
      "\u001b[0;32m/tmp/ipykernel_105766/2762325397.py\u001b[0m in \u001b[0;36m<module>\u001b[0;34m\u001b[0m\n\u001b[0;32m----> 1\u001b[0;31m \u001b[0mmodel\u001b[0m\u001b[0;34m.\u001b[0m\u001b[0mevaluate_seq2seq_model\u001b[0m\u001b[0;34m(\u001b[0m\u001b[0mnums\u001b[0m\u001b[0;34m=\u001b[0m\u001b[0;36m0\u001b[0m\u001b[0;34m)\u001b[0m\u001b[0;34m\u001b[0m\u001b[0;34m\u001b[0m\u001b[0m\n\u001b[0m",
      "\u001b[0;32m~/codes/NBSearch/end2end/seq2seq.py\u001b[0m in \u001b[0;36mevaluate_seq2seq_model\u001b[0;34m(self, nums)\u001b[0m\n\u001b[1;32m    400\u001b[0m         \u001b[0mdf_test_rows\u001b[0m \u001b[0;34m=\u001b[0m \u001b[0mpd\u001b[0m\u001b[0;34m.\u001b[0m\u001b[0mread_csv\u001b[0m\u001b[0;34m(\u001b[0m\u001b[0mos\u001b[0m\u001b[0;34m.\u001b[0m\u001b[0mgetcwd\u001b[0m\u001b[0;34m(\u001b[0m\u001b[0;34m)\u001b[0m \u001b[0;34m+\u001b[0m \u001b[0;34m'/data/df_test_rows.csv'\u001b[0m\u001b[0;34m)\u001b[0m\u001b[0;34m\u001b[0m\u001b[0;34m\u001b[0m\u001b[0m\n\u001b[1;32m    401\u001b[0m         \u001b[0mnums\u001b[0m \u001b[0;34m=\u001b[0m \u001b[0mdf_test_rows\u001b[0m\u001b[0;34m.\u001b[0m\u001b[0mshape\u001b[0m\u001b[0;34m[\u001b[0m\u001b[0;36m0\u001b[0m\u001b[0;34m]\u001b[0m \u001b[0;32mif\u001b[0m \u001b[0mnums\u001b[0m \u001b[0;34m==\u001b[0m \u001b[0;36m0\u001b[0m \u001b[0;32melse\u001b[0m \u001b[0mnums\u001b[0m\u001b[0;34m\u001b[0m\u001b[0;34m\u001b[0m\u001b[0m\n\u001b[0;32m--> 402\u001b[0;31m         \u001b[0;31m# print(f'--- Test {model_option} --- ')\u001b[0m\u001b[0;34m\u001b[0m\u001b[0;34m\u001b[0m\u001b[0;34m\u001b[0m\u001b[0m\n\u001b[0m\u001b[1;32m    403\u001b[0m         \u001b[0mpre\u001b[0m \u001b[0;34m=\u001b[0m \u001b[0;36m0\u001b[0m\u001b[0;34m\u001b[0m\u001b[0;34m\u001b[0m\u001b[0m\n\u001b[1;32m    404\u001b[0m         \u001b[0;32mfor\u001b[0m \u001b[0mi\u001b[0m \u001b[0;32min\u001b[0m \u001b[0mrange\u001b[0m\u001b[0;34m(\u001b[0m\u001b[0mnums\u001b[0m\u001b[0;34m)\u001b[0m\u001b[0;34m:\u001b[0m\u001b[0;34m\u001b[0m\u001b[0;34m\u001b[0m\u001b[0m\n",
      "\u001b[0;31mNameError\u001b[0m: name 'model_option' is not defined"
     ]
    }
   ],
   "source": [
    "model.evaluate_seq2seq_model(nums=0)"
   ]
  },
  {
   "cell_type": "code",
   "execution_count": 13,
   "id": "ddb1f704-d129-4c5d-bc25-50f3d9dcbd5b",
   "metadata": {},
   "outputs": [
    {
     "data": {
      "text/plain": [
       "'bilstm'"
      ]
     },
     "execution_count": 13,
     "metadata": {},
     "output_type": "execute_result"
    }
   ],
   "source": [
    "model.model_option"
   ]
  },
  {
   "cell_type": "code",
   "execution_count": null,
   "id": "3bcf49c3-565a-4d1d-8b54-2d478915cbdd",
   "metadata": {},
   "outputs": [],
   "source": []
  }
 ],
 "metadata": {
  "kernelspec": {
   "display_name": "Python 3 (ipykernel)",
   "language": "python",
   "name": "python3"
  },
  "language_info": {
   "codemirror_mode": {
    "name": "ipython",
    "version": 3
   },
   "file_extension": ".py",
   "mimetype": "text/x-python",
   "name": "python",
   "nbconvert_exporter": "python",
   "pygments_lexer": "ipython3",
   "version": "3.7.7"
  }
 },
 "nbformat": 4,
 "nbformat_minor": 5
}
